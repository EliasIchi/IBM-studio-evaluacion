{
 "cells": [
  {
   "cell_type": "markdown",
   "metadata": {
    "collapsed": true
   },
   "source": [
    "# My Jupyter Notebook on IBM Watson Studio"
   ]
  },
  {
   "cell_type": "markdown",
   "metadata": {},
   "source": [
    "**Elias Emanuel Almada**\n",
    " \n",
    "\n",
    " Coordinador Operaciones"
   ]
  },
  {
   "cell_type": "markdown",
   "metadata": {},
   "source": [
    "*Estoy interesado en la ciencia de datos porque puede aplicarse en cualquier ambito de la vida y encontrar oportunidades de mejora continua en todo, ademas es bien pago*"
   ]
  },
  {
   "cell_type": "markdown",
   "metadata": {},
   "source": [
    "### La celda 5 debería multiplicar 5 por 5 y traer el resultado correcto (25)"
   ]
  },
  {
   "cell_type": "code",
   "execution_count": 3,
   "metadata": {},
   "outputs": [
    {
     "data": {
      "text/plain": [
       "25"
      ]
     },
     "execution_count": 3,
     "metadata": {},
     "output_type": "execute_result"
    }
   ],
   "source": [
    "5*5"
   ]
  },
  {
   "cell_type": "markdown",
   "metadata": {},
   "source": [
    "*Receta para hacer pizza* **(viñeta)**\n",
    "- Harina\n",
    "- Aceite\n",
    "- Agua\n",
    "- levadura\n",
    "- sal\n",
    "\n",
    "*Receta para hacer pizza* **(enumerada)**\n",
    "1. Harina\n",
    "2. Aceite\n",
    "3. Agua\n",
    "4. Levadura\n",
    "5. Sal\n",
    "\n",
    "*Receta para hacer pizza* **(Linea horizontal)**\n",
    "\n",
    "Harina \n",
    "***\n",
    "Aceite\n",
    "***\n",
    "Agua\n",
    "***\n",
    "Levadura\n",
    "***\n",
    "Sal\n",
    "***\n"
   ]
  },
  {
   "cell_type": "code",
   "execution_count": null,
   "metadata": {},
   "outputs": [],
   "source": []
  }
 ],
 "metadata": {
  "kernelspec": {
   "display_name": "Python 3.10",
   "language": "python",
   "name": "python3"
  },
  "language_info": {
   "codemirror_mode": {
    "name": "ipython",
    "version": 3
   },
   "file_extension": ".py",
   "mimetype": "text/x-python",
   "name": "python",
   "nbconvert_exporter": "python",
   "pygments_lexer": "ipython3",
   "version": "3.10.6"
  }
 },
 "nbformat": 4,
 "nbformat_minor": 1
}
